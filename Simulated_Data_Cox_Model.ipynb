{
  "nbformat": 4,
  "nbformat_minor": 0,
  "metadata": {
    "colab": {
      "provenance": [],
      "authorship_tag": "ABX9TyMCcCR8kYUJINggZtNOLT5i",
      "include_colab_link": true
    },
    "kernelspec": {
      "name": "python3",
      "display_name": "Python 3"
    },
    "language_info": {
      "name": "python"
    }
  },
  "cells": [
    {
      "cell_type": "markdown",
      "metadata": {
        "id": "view-in-github",
        "colab_type": "text"
      },
      "source": [
        "<a href=\"https://colab.research.google.com/github/Tyriek-cloud/Cox-Hazard-Model-Simulation/blob/main/Simulated_Data_Cox_Model.ipynb\" target=\"_parent\"><img src=\"https://colab.research.google.com/assets/colab-badge.svg\" alt=\"Open In Colab\"/></a>"
      ]
    },
    {
      "cell_type": "markdown",
      "source": [
        "# **Cox Proportional-Hazards Model on Synthetic Data**"
      ],
      "metadata": {
        "id": "zYSP8ymDhNLt"
      }
    },
    {
      "cell_type": "code",
      "execution_count": null,
      "metadata": {
        "collapsed": true,
        "id": "y8J5qpOfSKZA"
      },
      "outputs": [],
      "source": [
        "# First, we shall install the necessary libraries to build a base model\n",
        "!pip install lifelines pandas numpy scikit-learn gradio matplotlib"
      ]
    },
    {
      "cell_type": "markdown",
      "source": [
        "Alright. Let's start by doing the folloiwng:\n",
        "\n",
        "*   Import all of the installed libraries.\n",
        "*   Generate the synthetic/fake data.\n",
        "*   Put all the data into an easy to work with dataframe.\n",
        "*   Take a look at the data."
      ],
      "metadata": {
        "id": "x_eV9_YXhY5Z"
      }
    },
    {
      "cell_type": "code",
      "source": [
        "import numpy as np\n",
        "import pandas as pd\n",
        "import matplotlib.pyplot as plt\n",
        "from lifelines import CoxPHFitter\n",
        "from lifelines.utils import concordance_index\n",
        "from sklearn.preprocessing import LabelEncoder\n",
        "from sklearn.impute import SimpleImputer\n",
        "\n",
        "# Set a random seed for reproducibility\n",
        "np.random.seed(42)\n",
        "\n",
        "# Generate Independent variables (IVs)\n",
        "n = 2000  # number of samples\n",
        "age = np.random.randint(22, 65, n)\n",
        "sex = np.random.choice(['Male', 'Female'], n)\n",
        "income = np.random.normal(50000, 15000, n)\n",
        "usage_frequency = np.random.randint(1, 8, n)\n",
        "engagement = np.random.normal(5, 2, n)\n",
        "satisfaction = np.random.normal(7, 1.5, n)\n",
        "\n",
        "# Dependent variables (DV)\n",
        "time_to_event = np.random.exponential(5, n)\n",
        "censor = np.random.binomial(1, 0.8, n)\n",
        "\n",
        "# Confounding variables\n",
        "time_of_year = np.random.choice(['Winter', 'Spring', 'Summer', 'Fall'], n)\n",
        "service_changes = np.random.choice([0, 1], n)\n",
        "\n",
        "# Create DataFrame\n",
        "df = pd.DataFrame({\n",
        "    'age': age,\n",
        "    'sex': sex,\n",
        "    'income': income,\n",
        "    'usage_frequency': usage_frequency,\n",
        "    'engagement': engagement,\n",
        "    'satisfaction': satisfaction,\n",
        "    'time_to_event': time_to_event,\n",
        "    'censor': censor,\n",
        "    'time_of_year': time_of_year,\n",
        "    'service_changes': service_changes\n",
        "})\n",
        "\n",
        "# Handle categorical variables (e.g., sex and time_of_year)\n",
        "label_encoder = LabelEncoder()\n",
        "df['sex'] = label_encoder.fit_transform(df['sex'])\n",
        "df['time_of_year'] = label_encoder.fit_transform(df['time_of_year'])\n",
        "\n",
        "# Impute any missing data (in case there are any NaN values)\n",
        "imputer = SimpleImputer(strategy='mean')\n",
        "df_imputed = pd.DataFrame(imputer.fit_transform(df), columns=df.columns)\n",
        "\n",
        "# Create the CoxPH model and fit it to the data\n",
        "cph = CoxPHFitter()\n",
        "\n",
        "# Fit the Cox model using the time_to_event and censor as survival data\n",
        "cph.fit(df_imputed, duration_col='time_to_event', event_col='censor')\n",
        "\n",
        "# Print the model summary\n",
        "print(cph.summary)"
      ],
      "metadata": {
        "colab": {
          "base_uri": "https://localhost:8080/"
        },
        "id": "Myps4yV9S5Cd",
        "outputId": "1a46e463-16c0-49bf-e31f-79c91bf5487c"
      },
      "execution_count": null,
      "outputs": [
        {
          "output_type": "stream",
          "name": "stdout",
          "text": [
            "                         coef  exp(coef)  se(coef)  coef lower 95%  \\\n",
            "covariate                                                            \n",
            "age              5.589372e-04   1.000559  0.002069       -0.003497   \n",
            "sex              5.543253e-03   1.005559  0.050430       -0.093298   \n",
            "income          -1.068146e-08   1.000000  0.000002       -0.000003   \n",
            "usage_frequency -1.088107e-02   0.989178  0.012517       -0.035414   \n",
            "engagement      -2.681184e-02   0.973544  0.012735       -0.051772   \n",
            "satisfaction     1.663381e-02   1.016773  0.016765       -0.016224   \n",
            "time_of_year    -7.407235e-04   0.999260  0.022525       -0.044889   \n",
            "service_changes  4.381156e-02   1.044785  0.050420       -0.055010   \n",
            "\n",
            "                 coef upper 95%  exp(coef) lower 95%  exp(coef) upper 95%  \\\n",
            "covariate                                                                   \n",
            "age                    0.004615             0.996509             1.004625   \n",
            "sex                    0.104385             0.910922             1.110028   \n",
            "income                 0.000003             0.999997             1.000003   \n",
            "usage_frequency        0.013652             0.965205             1.013746   \n",
            "engagement            -0.001851             0.949545             0.998150   \n",
            "satisfaction           0.049492             0.983907             1.050737   \n",
            "time_of_year           0.043408             0.956103             1.044364   \n",
            "service_changes        0.142633             0.946476             1.153306   \n",
            "\n",
            "                 cmp to         z         p  -log2(p)  \n",
            "covariate                                              \n",
            "age                 0.0  0.270104  0.787080  0.345418  \n",
            "sex                 0.0  0.109919  0.912474  0.132145  \n",
            "income              0.0 -0.006378  0.994911  0.007361  \n",
            "usage_frequency     0.0 -0.869289  0.384689  1.378235  \n",
            "engagement          0.0 -2.105329  0.035263  4.825715  \n",
            "satisfaction        0.0  0.992193  0.321104  1.638889  \n",
            "time_of_year        0.0 -0.032884  0.973767  0.038351  \n",
            "service_changes     0.0  0.868933  0.384884  1.377506  \n"
          ]
        }
      ]
    },
    {
      "cell_type": "markdown",
      "source": [
        "That looks okay. Engagement is properly the worse performing variable.I definitely need to be careful about handling that in the analysis. The data is obviously not going to reflect real-world conditions, but that does not mean I cannot take real world precautions.\n",
        "\n",
        "Using more powerful models may prove to be a much better approach. Let's try two Gradient Boosters in seperate notebooks.\n",
        "\n",
        "First, let's look at how this model performs (probably going to be mediocre from what I see above)."
      ],
      "metadata": {
        "id": "0HXdTL9ehlVJ"
      }
    },
    {
      "cell_type": "code",
      "source": [
        "# Evaluate the model's concordance index (C-index)\n",
        "c_index = concordance_index(df_imputed['time_to_event'], cph.predict_partial_hazard(df_imputed), df_imputed['censor'])\n",
        "print(f'Concordance index: {c_index}')"
      ],
      "metadata": {
        "colab": {
          "base_uri": "https://localhost:8080/"
        },
        "id": "qlVscfLsS_Eu",
        "outputId": "2860274d-2bf5-4d9d-e3fe-4ef53565a12c"
      },
      "execution_count": null,
      "outputs": [
        {
          "output_type": "stream",
          "name": "stdout",
          "text": [
            "Concordance index: 0.4741427924276233\n"
          ]
        }
      ]
    },
    {
      "cell_type": "markdown",
      "source": [
        "That is a better score than I was suspecting. However, more powerful models should perform far better. For now, let's just plot a curve."
      ],
      "metadata": {
        "id": "cP8cSknDiMQa"
      }
    },
    {
      "cell_type": "code",
      "source": [
        "# Plot the survival function for a sample individual\n",
        "sample_individual = df_imputed.iloc[[0]]  # Get the first row as a DataFrame\n",
        "sample_individual = sample_individual.drop(['time_to_event', 'censor'], axis=1)\n",
        "\n",
        "# Predict the survival function for this individual\n",
        "survival_function = cph.predict_survival_function(sample_individual)\n",
        "\n",
        "# Plot the survival function\n",
        "plt.figure(figsize=(10, 6))\n",
        "# Using survival_function.index as x and the single survival probability value as y\n",
        "plt.plot(survival_function.index, survival_function.iloc[:, 0], label=\"Survival function\", color='blue')\n",
        "plt.title(\"Survival Function for Sample Individual\")\n",
        "plt.xlabel(\"Time\")\n",
        "plt.ylabel(\"Survival Probability\")\n",
        "plt.legend()\n",
        "plt.show()"
      ],
      "metadata": {
        "colab": {
          "base_uri": "https://localhost:8080/",
          "height": 564
        },
        "id": "y1ka77E9TCTB",
        "outputId": "7bcab29a-b229-4793-e61e-e7748915223a"
      },
      "execution_count": null,
      "outputs": [
        {
          "output_type": "display_data",
          "data": {
            "text/plain": [
              "<Figure size 1000x600 with 1 Axes>"
            ],
            "image/png": "[encoded data removed]"
          },
          "metadata": {}
        }
      ]
    }
  ]
}