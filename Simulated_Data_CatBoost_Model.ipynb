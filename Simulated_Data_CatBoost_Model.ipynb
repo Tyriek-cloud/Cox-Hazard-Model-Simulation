{
  "nbformat": 4,
  "nbformat_minor": 0,
  "metadata": {
    "colab": {
      "provenance": [],
      "authorship_tag": "ABX9TyNE67xCfEvXJPReTweD+JWb",
      "include_colab_link": true
    },
    "kernelspec": {
      "name": "python3",
      "display_name": "Python 3"
    },
    "language_info": {
      "name": "python"
    }
  },
  "cells": [
    {
      "cell_type": "markdown",
      "metadata": {
        "id": "view-in-github",
        "colab_type": "text"
      },
      "source": [
        "<a href=\"https://colab.research.google.com/github/Tyriek-cloud/Cox-Hazard-Model-Simulation/blob/main/Simulated_Data_CatBoost_Model.ipynb\" target=\"_parent\"><img src=\"https://colab.research.google.com/assets/colab-badge.svg\" alt=\"Open In Colab\"/></a>"
      ]
    },
    {
      "cell_type": "markdown",
      "source": [
        "# **CatBoost Model on Synthetic Data**"
      ],
      "metadata": {
        "id": "HyNQseimfk_c"
      }
    },
    {
      "cell_type": "code",
      "source": [
        "# Installing the necessary models\n",
        "!pip install catboost lifelines pandas numpy scikit-learn gradio matplotlib"
      ],
      "metadata": {
        "collapsed": true,
        "id": "98mIVjhI-_MM"
      },
      "execution_count": null,
      "outputs": []
    },
    {
      "cell_type": "markdown",
      "source": [
        "Alright. Let's start by doing the folloiwng:\n",
        "\n",
        "*   Import all of the installed libraries.\n",
        "*   Generate the synthetic/fake data.\n",
        "*   Put all the data into an easy to work with dataframe.\n",
        "*   Take a look at the data."
      ],
      "metadata": {
        "id": "bDNN3SPrfq_0"
      }
    },
    {
      "cell_type": "code",
      "execution_count": 2,
      "metadata": {
        "colab": {
          "base_uri": "https://localhost:8080/"
        },
        "id": "t2lE-V1J-9hu",
        "outputId": "9517c3d8-6557-4ae7-ee19-7c0821e7461d"
      },
      "outputs": [
        {
          "output_type": "stream",
          "name": "stdout",
          "text": [
            "   age     sex        income  usage_frequency  engagement  satisfaction  \\\n",
            "0   60  Female  58903.350834                5    2.176297      6.708669   \n",
            "1   50  Female   5894.170480                2    4.522475      5.504714   \n",
            "2   36  Female  59838.511648                2    8.862222      5.802839   \n",
            "3   64  Female  52921.042921                5    6.717954      6.251257   \n",
            "4   29    Male  49719.368653                6    4.242050      5.581261   \n",
            "\n",
            "   time_to_event  censor time_of_year  service_changes  \n",
            "0       5.060297       1       Summer                0  \n",
            "1      10.666087       0         Fall                1  \n",
            "2       3.805956       1       Spring                0  \n",
            "3       7.117000       1       Summer                1  \n",
            "4       7.199754       0       Spring                1  \n"
          ]
        }
      ],
      "source": [
        "# Let's try Catboost\n",
        "import numpy as np\n",
        "import pandas as pd\n",
        "import matplotlib.pyplot as plt\n",
        "from lifelines import CoxPHFitter, KaplanMeierFitter\n",
        "from lifelines.utils import concordance_index\n",
        "from sklearn.preprocessing import StandardScaler, LabelEncoder\n",
        "from sklearn.model_selection import train_test_split, RandomizedSearchCV\n",
        "from sklearn.metrics import make_scorer\n",
        "from sklearn.impute import SimpleImputer\n",
        "from catboost import CatBoostRegressor, Pool\n",
        "\n",
        "# Set a random seed for reproducibility\n",
        "np.random.seed(42)\n",
        "\n",
        "# Generate Independent variables (IVs)\n",
        "n = 2000 # number of samples\n",
        "age = np.random.randint(22, 65, n)\n",
        "sex = np.random.choice(['Male', 'Female'], n)\n",
        "income = np.random.normal(50000, 15000, n)\n",
        "usage_frequency = np.random.randint(1, 8, n)\n",
        "engagement = np.random.normal(5, 2, n)\n",
        "satisfaction = np.random.normal(7, 1.5, n)\n",
        "\n",
        "# Dependent variables (DV)\n",
        "time_to_event = np.random.exponential(5, n)\n",
        "censor = np.random.binomial(1, 0.8, n)\n",
        "\n",
        "# Confounding variables\n",
        "time_of_year = np.random.choice(['Winter', 'Spring', 'Summer', 'Fall'], n)\n",
        "service_changes = np.random.choice([0, 1], n)\n",
        "\n",
        "# Create DataFrame\n",
        "df = pd.DataFrame({\n",
        "    'age': age,\n",
        "    'sex': sex,\n",
        "    'income': income,\n",
        "    'usage_frequency': usage_frequency,\n",
        "    'engagement': engagement,\n",
        "    'satisfaction': satisfaction,\n",
        "    'time_to_event': time_to_event,\n",
        "    'censor': censor,\n",
        "    'time_of_year': time_of_year,\n",
        "    'service_changes': service_changes\n",
        "})\n",
        "\n",
        "# Call the head (first 5 rows) for observation\n",
        "print(df.head())"
      ]
    },
    {
      "cell_type": "markdown",
      "source": [
        "That looks alright. However, it is not necessarily the most \"real-world\" looking. Let's observe some of the interactions between the variables and add some \"noise\" to the data."
      ],
      "metadata": {
        "id": "kEOWbNQPf6CN"
      }
    },
    {
      "cell_type": "code",
      "source": [
        "# Label encoder for the sex and time of year variables\n",
        "label_encoder = LabelEncoder()\n",
        "df['sex'] = label_encoder.fit_transform(df['sex'])\n",
        "df['time_of_year'] = label_encoder.fit_transform(df['time_of_year'])\n",
        "\n",
        "# One-hot encode the service_changes (outages) variable\n",
        "df = pd.get_dummies(df, columns=['service_changes'], drop_first=True)\n",
        "\n",
        "# Interaction terms and nonlinear transformations\n",
        "df['age_income'] = df['age'] * df['income']\n",
        "df['engagement_satisfaction'] = df['engagement'] * df['satisfaction']\n",
        "df['usage_service_change'] = df['usage_frequency'] * df['service_changes_1']\n",
        "df['age_squared'] = df['age'] ** 2\n",
        "df['income_squared'] = df['income'] ** 2\n",
        "\n",
        "# Create age bins\n",
        "df['age_bins'] = pd.cut(df['age'], bins=[20, 30, 40, 50, 60, 70], labels=False)\n",
        "df['income'] = np.clip(df['income'], df['income'].quantile(0.05), df['income'].quantile(0.95))\n",
        "df['income_log'] = np.log1p(df['income'])\n",
        "\n",
        "# Scale continuous variables\n",
        "scaler = StandardScaler()\n",
        "scaled_features = ['age', 'income', 'usage_frequency', 'engagement', 'satisfaction', 'age_income',\n",
        "                   'engagement_satisfaction', 'usage_service_change', 'age_squared', 'income_squared', 'income_log']\n",
        "df[scaled_features] = scaler.fit_transform(df[scaled_features])\n",
        "\n",
        "# Calling head to ensure that the data pre-processing is working\n",
        "print(df.head())"
      ],
      "metadata": {
        "id": "MZ04GiTm_IuK",
        "colab": {
          "base_uri": "https://localhost:8080/"
        },
        "outputId": "d50ab7ab-e01a-4fd1-e2a4-3593e57e4140"
      },
      "execution_count": 3,
      "outputs": [
        {
          "output_type": "stream",
          "name": "stdout",
          "text": [
            "        age  sex    income  usage_frequency  engagement  satisfaction  \\\n",
            "0  1.372783    0  0.653401         0.518315   -1.428284     -0.170196   \n",
            "1  0.560028    0 -1.785924        -0.989145   -0.256056     -0.964047   \n",
            "2 -0.577828    0  0.721745        -0.989145    1.912224     -0.767472   \n",
            "3  1.697884    0  0.216197         0.518315    0.840878     -0.471799   \n",
            "4 -1.146756    1 -0.017790         1.020802   -0.396165     -0.913574   \n",
            "\n",
            "   time_to_event  censor  time_of_year  service_changes_1  age_income  \\\n",
            "0       5.060297       1             2              False    1.507644   \n",
            "1      10.666087       0             0               True   -2.032951   \n",
            "2       3.805956       1             1              False   -0.000640   \n",
            "3       7.117000       1             2               True    1.346703   \n",
            "4       7.199754       0             1               True   -0.779173   \n",
            "\n",
            "   engagement_satisfaction  usage_service_change  age_squared  income_squared  \\\n",
            "0                -1.258092             -0.828050     1.499794        0.491416   \n",
            "1                -0.625699             -0.003504     0.462322       -1.753439   \n",
            "2                 1.004051             -0.828050    -0.673237        0.563988   \n",
            "3                 0.424762              1.233314     1.967599        0.054212   \n",
            "4                -0.700576              1.645587    -1.102373       -0.160558   \n",
            "\n",
            "   age_bins  income_log  \n",
            "0         3    0.699501  \n",
            "1         2   -2.146408  \n",
            "2         1    0.753110  \n",
            "3         4    0.335010  \n",
            "4         0    0.122617  \n"
          ]
        }
      ]
    },
    {
      "cell_type": "markdown",
      "source": [
        "That looks fine. Now it's time to define and train the model. Ideally, we want to run the model on the best possible features/variables. Instead of doing the manual work of finding the best features, we will perform a search on the entire synthetic dataset."
      ],
      "metadata": {
        "id": "VmH0_rpMf_n9"
      }
    },
    {
      "cell_type": "code",
      "source": [
        "# Time to fit a model\n",
        "# Split data into training and validation sets\n",
        "# Impute in case there is missing data (leaving at the mean is fine for now)\n",
        "imputer = SimpleImputer(strategy='mean')\n",
        "X = imputer.fit_transform(df.drop(['time_to_event', 'censor'], axis=1))\n",
        "y = df[['time_to_event', 'censor']] # Time to event and censor indicator\n",
        "X_train, X_val, y_train, y_val = train_test_split(X, y, test_size=0.2, random_state=42)\n",
        "\n",
        "# Define the parameter grid for RandomizedSearchCV for CatBoost\n",
        "param_grid = {\n",
        "    'learning_rate': [0.01, 0.05, 0.1, 0.2],\n",
        "    'depth': [4, 5, 6, 7],\n",
        "    'subsample': [0.7, 0.8, 0.9],\n",
        "    'colsample_bylevel': [0.7, 0.8, 1.0],\n",
        "    'l2_leaf_reg': [0.1, 0.5, 1.0],\n",
        "    'iterations': [100, 200, 300],\n",
        "    'min_data_in_leaf': [1, 5, 10],\n",
        "}\n",
        "\n",
        "# Setup RandomizedSearchCV for CatBoost\n",
        "random_search = RandomizedSearchCV(\n",
        "    CatBoostRegressor(loss_function='Cox', cat_features=[], eval_metric='Cox', thread_count=-1),\n",
        "    param_distributions=param_grid,\n",
        "    n_iter=50,\n",
        "    scoring=make_scorer(concordance_index),\n",
        "    cv=3,\n",
        "    verbose=1,\n",
        "    random_state=42\n",
        ")\n",
        "\n",
        "# Perform Randomized Search\n",
        "random_search.fit(X_train, y_train['time_to_event'])\n",
        "\n",
        "# Print best parameters and score\n",
        "print(f\"Best Parameters: {random_search.best_params_}\")\n",
        "print(f\"Best Concordance Index: {random_search.best_score_}\")\n",
        "\n",
        "# Train the final model with best parameters\n",
        "best_params = random_search.best_params_\n",
        "catboost_model = CatBoostRegressor(loss_function='Cox', eval_metric='Cox', cat_features=[], thread_count=-1, **best_params)\n",
        "catboost_model.fit(X_train, y_train['time_to_event'])\n",
        "\n",
        "# Predict on the validation set\n",
        "predictions = catboost_model.predict(X_val)\n",
        "\n",
        "# Calculate Concordance Index (C-index) for validation data\n",
        "c_index = concordance_index(y_val['time_to_event'], predictions, y_val['censor'])\n",
        "print(f'Concordance Index (C-index) for CatBoost model: {c_index}')"
      ],
      "metadata": {
        "id": "66T49G2a_Y4Q"
      },
      "execution_count": null,
      "outputs": []
    },
    {
      "cell_type": "markdown",
      "source": [
        "I decided to do something different than the XGBoost model. I changed the parameters in such a way that I thought would be better for a CatBoost model. The results were pretty average/the model could be much stronger. I may return to this project to further fine tune this model.\n",
        "\n",
        "Still, this may be better than a classical Cox Hazards Model. Let's fit the curve and see what is happening."
      ],
      "metadata": {
        "id": "ZD-eaBoUgD45"
      }
    },
    {
      "cell_type": "code",
      "source": [
        "# Kaplan-Meier curve for true survival function\n",
        "kmf = KaplanMeierFitter()\n",
        "kmf.fit(df['time_to_event'], event_observed=df['censor'])\n",
        "true_survival_function = kmf.survival_function_\n",
        "\n",
        "# Plot the Kaplan-Meier survival function\n",
        "plt.figure(figsize=(8, 6))\n",
        "kmf.plot_survival_function()\n",
        "plt.title('Kaplan-Meier Survival Curve')\n",
        "plt.xlabel('Time')\n",
        "plt.ylabel('Survival Probability')\n",
        "plt.grid(True)\n",
        "plt.show()"
      ],
      "metadata": {
        "id": "H4X5U8eO_jaS",
        "colab": {
          "base_uri": "https://localhost:8080/",
          "height": 564
        },
        "outputId": "424307f3-55b4-43f5-f2ad-12e477bcc94a"
      },
      "execution_count": 6,
      "outputs": [
        {
          "output_type": "display_data",
          "data": {
            "text/plain": [
              "<Figure size 800x600 with 1 Axes>"
            ],
            "image/png": "[encoded data removed]"
          },
          "metadata": {}
        }
      ]
    },
    {
      "cell_type": "markdown",
      "source": [
        "The curve is fit. Out of the three models I have built, it looks like the XGBoost model is performing the best. This could be for a few different reasons:\n",
        "\n",
        "*   My parameters may be better fine tuned on the XGBoost model in comparison to the CatBoost model.\n",
        "*   The amount of variables that are not at a categorical level are better on the model.\n",
        "*   XGBoost could be handling overfitting, imputation, and other items better.\n",
        "*   XGBoost appears to be doing regularization on the data a little better.\n",
        "\n",
        "Let's see how this will look as a prototype on Gradio."
      ],
      "metadata": {
        "id": "RBFmW0IsgzaN"
      }
    },
    {
      "cell_type": "code",
      "source": [
        "import gradio as gr\n",
        "import numpy as np\n",
        "import pandas as pd\n",
        "import matplotlib.pyplot as plt\n",
        "from lifelines import KaplanMeierFitter\n",
        "\n",
        "# Function to update and plot the Kaplan-Meier curve based on user input\n",
        "def plot_kaplan_meier(censor_rate, time_mean):\n",
        "    # Generate synthetic data (modify for dynamic adjustments based on user input)\n",
        "    n = 2000  # Number of samples\n",
        "    time_to_event = np.random.exponential(time_mean, n)\n",
        "    censor = np.random.binomial(1, censor_rate, n)\n",
        "\n",
        "    # Create DataFrame for the synthetic dataset\n",
        "    df = pd.DataFrame({'time_to_event': time_to_event, 'censor': censor})\n",
        "\n",
        "    # Kaplan-Meier fitting\n",
        "    kmf = KaplanMeierFitter()\n",
        "    kmf.fit(df['time_to_event'], event_observed=df['censor'])\n",
        "\n",
        "    # Plotting the Kaplan-Meier survival function\n",
        "    plt.figure(figsize=(8, 6))\n",
        "    kmf.plot_survival_function()\n",
        "    plt.title('Simulated Data Kaplan-Meier Survival Curve')\n",
        "    plt.xlabel('Time')\n",
        "    plt.ylabel('Survival Probability')\n",
        "    plt.grid(True)\n",
        "\n",
        "    # Return the plot to display in the Gradio interface\n",
        "    return plt.gcf()\n",
        "\n",
        "# Gradio Interface\n",
        "iface = gr.Interface(\n",
        "    fn=plot_kaplan_meier,\n",
        "    inputs=[\n",
        "        gr.Slider(minimum=0.5, maximum=1.0, step=0.05, value=0.8, label=\"Censoring Rate\"),\n",
        "        gr.Slider(minimum=1.0, maximum=10.0, step=0.5, value=5.0, label=\"Mean Time to Event\")\n",
        "    ],\n",
        "    outputs=gr.Plot(),\n",
        "    live=True,\n",
        "    title=\"Simulated Data Kaplan-Meier Survival Curve\",\n",
        "    description=\"Adjust the censoring rate and time to event to visualize the Kaplan-Meier survival curve.\"\n",
        ")\n",
        "\n",
        "# Launch the Gradio app\n",
        "iface.launch()"
      ],
      "metadata": {
        "id": "bG1joUqx_6Jk",
        "colab": {
          "base_uri": "https://localhost:8080/",
          "height": 645
        },
        "outputId": "9bc95fcb-c431-4c60-b162-e5a5d10b492c"
      },
      "execution_count": 7,
      "outputs": [
        {
          "output_type": "stream",
          "name": "stdout",
          "text": [
            "Running Gradio in a Colab notebook requires sharing enabled. Automatically setting `share=True` (you can turn this off by setting `share=False` in `launch()` explicitly).\n",
            "\n",
            "Colab notebook detected. To show errors in colab notebook, set debug=True in launch()\n",
            "* Running on public URL: https://ccf01baa99643b74c4.gradio.live\n",
            "\n",
            "This share link expires in 72 hours. For free permanent hosting and GPU upgrades, run `gradio deploy` from the terminal in the working directory to deploy to Hugging Face Spaces (https://huggingface.co/spaces)\n"
          ]
        },
        {
          "output_type": "display_data",
          "data": {
            "text/plain": [
              "<IPython.core.display.HTML object>"
            ],
            "text/html": [
              "<div><iframe src=\"https://ccf01baa99643b74c4.gradio.live\" width=\"100%\" height=\"500\" allow=\"autoplay; camera; microphone; clipboard-read; clipboard-write;\" frameborder=\"0\" allowfullscreen></iframe></div>"
            ]
          },
          "metadata": {}
        },
        {
          "output_type": "execute_result",
          "data": {
            "text/plain": []
          },
          "metadata": {},
          "execution_count": 7
        }
      ]
    },
    {
      "cell_type": "code",
      "source": [
        "# Saving the model to a JSON file\n",
        "# catboost_model.save_model('catboost_survival_model.json')"
      ],
      "metadata": {
        "id": "ug-xHJXqABNz"
      },
      "execution_count": null,
      "outputs": []
    },
    {
      "cell_type": "code",
      "source": [
        "# Downloading\n",
        "# from google.colab import files\n",
        "# files.download('catboost_survival_model.json')"
      ],
      "metadata": {
        "id": "EzKPTcn2_4mh"
      },
      "execution_count": null,
      "outputs": []
    }
  ]
}